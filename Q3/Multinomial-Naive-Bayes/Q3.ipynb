{
  "nbformat": 4,
  "nbformat_minor": 0,
  "metadata": {
    "colab": {
      "name": "Q3.ipynb",
      "provenance": [],
      "collapsed_sections": [],
      "mount_file_id": "12IjPKoqfFw3Qp5D5SA5VvV9Bfckn9mc2",
      "authorship_tag": "ABX9TyMtixA7dxdj4L9cUENKOFpe",
      "include_colab_link": true
    },
    "kernelspec": {
      "name": "python3",
      "display_name": "Python 3"
    },
    "language_info": {
      "name": "python"
    },
    "accelerator": "GPU"
  },
  "cells": [
    {
      "cell_type": "markdown",
      "metadata": {
        "id": "view-in-github",
        "colab_type": "text"
      },
      "source": [
        "<a href=\"https://colab.research.google.com/github/MuhammadFadhilArkan/Techtest/blob/main/Q3/Multinomial-Naive-Bayes/Q3.ipynb\" target=\"_parent\"><img src=\"https://colab.research.google.com/assets/colab-badge.svg\" alt=\"Open In Colab\"/></a>"
      ]
    },
    {
      "cell_type": "markdown",
      "metadata": {
        "id": "Lh2kWPimcT7N"
      },
      "source": [
        "Import the library"
      ]
    },
    {
      "cell_type": "code",
      "metadata": {
        "id": "o3aQ4MfGZQmR"
      },
      "source": [
        "import pandas as pd\n",
        "from IPython.display import display, HTML\n",
        "import os\n",
        "from re import search\n",
        "import random\n",
        "from sklearn.model_selection import train_test_split\n",
        "import matplotlib.pyplot as plt\n",
        "import numpy as np"
      ],
      "execution_count": 1,
      "outputs": []
    },
    {
      "cell_type": "markdown",
      "metadata": {
        "id": "agNXfo3qces6"
      },
      "source": [
        "Define the path of the text file"
      ]
    },
    {
      "cell_type": "code",
      "metadata": {
        "id": "j6rA95MeZQVp"
      },
      "source": [
        "path= \"/content/drive/MyDrive/CAD IT/Machine Learning Application Engineer Test 2021 V1.1/Q3/\""
      ],
      "execution_count": 2,
      "outputs": []
    },
    {
      "cell_type": "markdown",
      "metadata": {
        "id": "md1nJB-fchMA"
      },
      "source": [
        "Read the text file"
      ]
    },
    {
      "cell_type": "code",
      "metadata": {
        "id": "L7FTNZRCZQRT"
      },
      "source": [
        "arr = os.listdir(path)\n",
        "strtxt = \".txt\"\n",
        "datas = []\n",
        "for txtfile in arr:\n",
        "    if txtfile.__contains__(strtxt):\n",
        "        fileObject = open(path+txtfile, \"r\")\n",
        "        data = fileObject.read()\n",
        "        datas.append(data)"
      ],
      "execution_count": 3,
      "outputs": []
    },
    {
      "cell_type": "markdown",
      "metadata": {
        "id": "frtODdNDcjap"
      },
      "source": [
        "Extract only needed sentence from the files by cleaning sentence that start with \"#\""
      ]
    },
    {
      "cell_type": "code",
      "metadata": {
        "id": "jpbxJAIHZQM8"
      },
      "source": [
        "ds = []\n",
        "for data in datas :\n",
        "  text = datas[0].split(\"\\n\")\n",
        "  for item in text:\n",
        "    if ((len(item)>0) and (item[0] != \"#\")):\n",
        "      ds.append(item)"
      ],
      "execution_count": 4,
      "outputs": []
    },
    {
      "cell_type": "markdown",
      "metadata": {
        "id": "hWbfad12cnTe"
      },
      "source": [
        "Separate each sentence into label and sentence"
      ]
    },
    {
      "cell_type": "code",
      "metadata": {
        "id": "02w0p83JZQI5"
      },
      "source": [
        "labels = []\n",
        "sentences = []\n",
        "for item in ds :\n",
        "  label = item[:4]\n",
        "  sentence = item[4:]\n",
        "\n",
        "  labels.append(label)\n",
        "  sentences.append(sentence)"
      ],
      "execution_count": 5,
      "outputs": []
    },
    {
      "cell_type": "markdown",
      "metadata": {
        "id": "RLt9XfTMcpyt"
      },
      "source": [
        "Make a pandas dataframe from the labels and sentences for sake of visualization"
      ]
    },
    {
      "cell_type": "code",
      "metadata": {
        "colab": {
          "base_uri": "https://localhost:8080/",
          "height": 422
        },
        "id": "kiTFVyZCZQCc",
        "outputId": "3f3e7326-5619-4094-ad83-ccfeaa27520d"
      },
      "source": [
        "data_dict = {\"label\": labels, \"sentence\": sentences}\n",
        "df = pd.DataFrame(data_dict)\n",
        "df"
      ],
      "execution_count": 6,
      "outputs": [
        {
          "output_type": "execute_result",
          "data": {
            "text/html": [
              "<div>\n",
              "<style scoped>\n",
              "    .dataframe tbody tr th:only-of-type {\n",
              "        vertical-align: middle;\n",
              "    }\n",
              "\n",
              "    .dataframe tbody tr th {\n",
              "        vertical-align: top;\n",
              "    }\n",
              "\n",
              "    .dataframe thead th {\n",
              "        text-align: right;\n",
              "    }\n",
              "</style>\n",
              "<table border=\"1\" class=\"dataframe\">\n",
              "  <thead>\n",
              "    <tr style=\"text-align: right;\">\n",
              "      <th></th>\n",
              "      <th>label</th>\n",
              "      <th>sentence</th>\n",
              "    </tr>\n",
              "  </thead>\n",
              "  <tbody>\n",
              "    <tr>\n",
              "      <th>0</th>\n",
              "      <td>AIMX</td>\n",
              "      <td>We propose a nonparametric Bayesian factor re...</td>\n",
              "    </tr>\n",
              "    <tr>\n",
              "      <th>1</th>\n",
              "      <td>BASE</td>\n",
              "      <td>To accomplish this, we propose a sparse varia...</td>\n",
              "    </tr>\n",
              "    <tr>\n",
              "      <th>2</th>\n",
              "      <td>OWNX</td>\n",
              "      <td>We apply this model to two problems (factor a...</td>\n",
              "    </tr>\n",
              "    <tr>\n",
              "      <th>3</th>\n",
              "      <td>MISC</td>\n",
              "      <td>Factor analysis is the task of explaining dat...</td>\n",
              "    </tr>\n",
              "    <tr>\n",
              "      <th>4</th>\n",
              "      <td>MISC</td>\n",
              "      <td>Factor  regression  couples this analysis wit...</td>\n",
              "    </tr>\n",
              "    <tr>\n",
              "      <th>...</th>\n",
              "      <td>...</td>\n",
              "      <td>...</td>\n",
              "    </tr>\n",
              "    <tr>\n",
              "      <th>2065</th>\n",
              "      <td>OWNX</td>\n",
              "      <td>Since our motivation is an application in bio...</td>\n",
              "    </tr>\n",
              "    <tr>\n",
              "      <th>2066</th>\n",
              "      <td>OWNX</td>\n",
              "      <td>In particular,  genes  are  features ,  sampl...</td>\n",
              "    </tr>\n",
              "    <tr>\n",
              "      <th>2067</th>\n",
              "      <td>OWNX</td>\n",
              "      <td>However, our model is more general</td>\n",
              "    </tr>\n",
              "    <tr>\n",
              "      <th>2068</th>\n",
              "      <td>OWNX</td>\n",
              "      <td>An alternative application might be to a coll...</td>\n",
              "    </tr>\n",
              "    <tr>\n",
              "      <th>2069</th>\n",
              "      <td>OWNX</td>\n",
              "      <td>In this context, all three contributions of o...</td>\n",
              "    </tr>\n",
              "  </tbody>\n",
              "</table>\n",
              "<p>2070 rows × 2 columns</p>\n",
              "</div>"
            ],
            "text/plain": [
              "     label                                           sentence\n",
              "0     AIMX   We propose a nonparametric Bayesian factor re...\n",
              "1     BASE   To accomplish this, we propose a sparse varia...\n",
              "2     OWNX   We apply this model to two problems (factor a...\n",
              "3     MISC   Factor analysis is the task of explaining dat...\n",
              "4     MISC   Factor  regression  couples this analysis wit...\n",
              "...    ...                                                ...\n",
              "2065  OWNX   Since our motivation is an application in bio...\n",
              "2066  OWNX   In particular,  genes  are  features ,  sampl...\n",
              "2067  OWNX                 However, our model is more general\n",
              "2068  OWNX   An alternative application might be to a coll...\n",
              "2069  OWNX   In this context, all three contributions of o...\n",
              "\n",
              "[2070 rows x 2 columns]"
            ]
          },
          "metadata": {},
          "execution_count": 6
        }
      ]
    },
    {
      "cell_type": "markdown",
      "metadata": {
        "id": "w89xLjmScwBs"
      },
      "source": [
        "As we can see the data is already cleaned, but lets check the distribution of labels"
      ]
    },
    {
      "cell_type": "code",
      "metadata": {
        "colab": {
          "base_uri": "https://localhost:8080/"
        },
        "id": "wVk6yoaHZP88",
        "outputId": "e2698117-c670-4e03-a516-872452c40028"
      },
      "source": [
        "print(f\"Value counts for each class:\\n\\n{df.label.value_counts()}\\n\")"
      ],
      "execution_count": 7,
      "outputs": [
        {
          "output_type": "stream",
          "name": "stdout",
          "text": [
            "Value counts for each class:\n",
            "\n",
            "OWNX    1350\n",
            "MISC     450\n",
            "BASE      90\n",
            "AIMX      90\n",
            "CONT      90\n",
            "Name: label, dtype: int64\n",
            "\n"
          ]
        }
      ]
    },
    {
      "cell_type": "markdown",
      "metadata": {
        "id": "rIaQ220LczC1"
      },
      "source": [
        "We can see that this is an unbalanced dataset, so we have to do the train_test split correctly by using \"stratify\" option from scikit library"
      ]
    },
    {
      "cell_type": "code",
      "metadata": {
        "id": "ehrFXhawZP5d"
      },
      "source": [
        "X_train, X_test, y_train, y_test = train_test_split(df.sentence, df.label, test_size=0.2, random_state=42, stratify=labels)"
      ],
      "execution_count": 8,
      "outputs": []
    },
    {
      "cell_type": "markdown",
      "metadata": {
        "id": "Scq_yU14c1YX"
      },
      "source": [
        "Check the distribution of labels on each train and test set"
      ]
    },
    {
      "cell_type": "code",
      "metadata": {
        "colab": {
          "base_uri": "https://localhost:8080/",
          "height": 237
        },
        "id": "sQuE8EOzZP1p",
        "outputId": "490633be-2b40-4c9d-9eef-4118ef3d9520"
      },
      "source": [
        "plt.subplot(1, 3, 1)\n",
        "y_train.value_counts().plot.pie(y='label', title='Proportion of each class for train set', figsize=(10, 6))\n",
        "\n",
        "plt.subplot(1, 3, 3)\n",
        "y_test.value_counts().plot.pie(y='label', title='Proportion of each class for test set', figsize=(10, 6))\n",
        "\n",
        "plt.tight_layout()\n",
        "plt.show()"
      ],
      "execution_count": 9,
      "outputs": [
        {
          "output_type": "display_data",
          "data": {
            "image/png": "[encoded data removed]",
            "text/plain": [
              "<Figure size 720x432 with 2 Axes>"
            ]
          },
          "metadata": {}
        }
      ]
    },
    {
      "cell_type": "markdown",
      "metadata": {
        "id": "cumYOdDuc5gl"
      },
      "source": [
        "Yes! the train and test set is balanced"
      ]
    },
    {
      "cell_type": "markdown",
      "metadata": {
        "id": "S_8tsHLAiXBr"
      },
      "source": [
        "Next, encode the text data"
      ]
    },
    {
      "cell_type": "code",
      "metadata": {
        "id": "jYDsc692gpAW"
      },
      "source": [
        "from sklearn.feature_extraction.text import CountVectorizer\n",
        "\n",
        "# Allow unigrams and bigrams\n",
        "vectorizer = CountVectorizer(ngram_range=(1, 5))"
      ],
      "execution_count": 10,
      "outputs": []
    },
    {
      "cell_type": "markdown",
      "metadata": {
        "id": "vMFG3ChhiZS3"
      },
      "source": [
        "Build classifier using Multinomial Naive Bayes "
      ]
    },
    {
      "cell_type": "code",
      "metadata": {
        "id": "SogeYIligvmE"
      },
      "source": [
        "from sklearn.metrics import accuracy_score, f1_score\n",
        "from sklearn.naive_bayes import MultinomialNB\n",
        "\n",
        "\n",
        "def calculate_accuracy(X_tr, y_tr, X_te=X_test, y_te=y_test, \n",
        "                       clf=MultinomialNB(), vectorizer=vectorizer):\n",
        "    \n",
        "    # Encode train text\n",
        "    X_train_vect = vectorizer.fit_transform(X_tr)\n",
        "    \n",
        "    # Fit model\n",
        "    clf.fit(X=X_train_vect, y=y_tr)\n",
        "    \n",
        "    # Vectorize test text\n",
        "    X_test_vect = vectorizer.transform(X_te)\n",
        "    \n",
        "    # Make predictions for the test set\n",
        "    preds = clf.predict(X_test_vect)\n",
        "    \n",
        "    # Return accuracy score\n",
        "    return f1_score(preds, y_te,average='weighted')"
      ],
      "execution_count": 21,
      "outputs": []
    },
    {
      "cell_type": "code",
      "metadata": {
        "id": "fjY7CVm5g0cN"
      },
      "source": [
        "# Empty dictionary\n",
        "scores = dict()"
      ],
      "execution_count": 24,
      "outputs": []
    },
    {
      "cell_type": "markdown",
      "metadata": {
        "id": "Py7Z4zJXikyF"
      },
      "source": [
        "Calculate accuracy"
      ]
    },
    {
      "cell_type": "code",
      "metadata": {
        "colab": {
          "base_uri": "https://localhost:8080/"
        },
        "id": "iwixZ6UGg3e8",
        "outputId": "f530f607-64d8-4a8a-985c-4fe6afb6d886"
      },
      "source": [
        "score = calculate_accuracy(X_train, y_train)\n",
        "\n",
        "# Save the result\n",
        "scores['eval'] = score\n",
        "\n",
        "print(f\"The train dataset achieved an f1_score of {accs['eval']*100:.2f}%\")"
      ],
      "execution_count": 25,
      "outputs": [
        {
          "output_type": "stream",
          "name": "stdout",
          "text": [
            "The train dataset achieved an f1_score of 100.00%\n"
          ]
        }
      ]
    },
    {
      "cell_type": "markdown",
      "metadata": {
        "id": "pQjbwStljVhD"
      },
      "source": [
        "WOW! Surprisingly, we also achieved 100% f1 score by using Multinomial Naive Bayes !"
      ]
    }
  ]
}