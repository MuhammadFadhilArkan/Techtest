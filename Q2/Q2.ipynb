{
  "nbformat": 4,
  "nbformat_minor": 0,
  "metadata": {
    "colab": {
      "name": "Q2.ipynb",
      "provenance": [],
      "collapsed_sections": [],
      "mount_file_id": "1DUHkDebpFwa5SX-Sok-nDr3KPaCuu8gC",
      "authorship_tag": "ABX9TyNlJjE11d6t4AK6EFsHXPC/",
      "include_colab_link": true
    },
    "kernelspec": {
      "name": "python3",
      "display_name": "Python 3"
    },
    "language_info": {
      "name": "python"
    }
  },
  "cells": [
    {
      "cell_type": "markdown",
      "metadata": {
        "id": "view-in-github",
        "colab_type": "text"
      },
      "source": [
        "<a href=\"https://colab.research.google.com/github/MuhammadFadhilArkan/Techtest/blob/main/Q2/Q2.ipynb\" target=\"_parent\"><img src=\"https://colab.research.google.com/assets/colab-badge.svg\" alt=\"Open In Colab\"/></a>"
      ]
    },
    {
      "cell_type": "markdown",
      "metadata": {
        "id": "L_R6x0_6xGhk"
      },
      "source": [
        "Install Necessary Library"
      ]
    },
    {
      "cell_type": "code",
      "metadata": {
        "id": "41ZQOKBBOrtd",
        "colab": {
          "base_uri": "https://localhost:8080/"
        },
        "outputId": "52eaf680-5b22-4f52-8580-1bd214a4ab0f"
      },
      "source": [
        "!pip install PyPDF2\n",
        "!pip install tika\n",
        "!pip install tabula-py"
      ],
      "execution_count": 1,
      "outputs": [
        {
          "output_type": "stream",
          "name": "stdout",
          "text": [
            "Collecting PyPDF2\n",
            "  Downloading PyPDF2-1.26.0.tar.gz (77 kB)\n",
            "\u001b[?25l\r\u001b[K     |████▎                           | 10 kB 16.4 MB/s eta 0:00:01\r\u001b[K     |████████▌                       | 20 kB 6.3 MB/s eta 0:00:01\r\u001b[K     |████████████▊                   | 30 kB 4.5 MB/s eta 0:00:01\r\u001b[K     |█████████████████               | 40 kB 4.4 MB/s eta 0:00:01\r\u001b[K     |█████████████████████▏          | 51 kB 2.2 MB/s eta 0:00:01\r\u001b[K     |█████████████████████████▍      | 61 kB 2.4 MB/s eta 0:00:01\r\u001b[K     |█████████████████████████████▋  | 71 kB 2.5 MB/s eta 0:00:01\r\u001b[K     |████████████████████████████████| 77 kB 2.0 MB/s \n",
            "\u001b[?25hBuilding wheels for collected packages: PyPDF2\n",
            "  Building wheel for PyPDF2 (setup.py) ... \u001b[?25l\u001b[?25hdone\n",
            "  Created wheel for PyPDF2: filename=PyPDF2-1.26.0-py3-none-any.whl size=61101 sha256=1de147196dfe0f92055edffd5dede1d051156438eb7d716db246d198d5a47a32\n",
            "  Stored in directory: /root/.cache/pip/wheels/80/1a/24/648467ade3a77ed20f35cfd2badd32134e96dd25ca811e64b3\n",
            "Successfully built PyPDF2\n",
            "Installing collected packages: PyPDF2\n",
            "Successfully installed PyPDF2-1.26.0\n",
            "Collecting tika\n",
            "  Downloading tika-1.24.tar.gz (28 kB)\n",
            "Requirement already satisfied: setuptools in /usr/local/lib/python3.7/dist-packages (from tika) (57.4.0)\n",
            "Requirement already satisfied: requests in /usr/local/lib/python3.7/dist-packages (from tika) (2.23.0)\n",
            "Requirement already satisfied: idna<3,>=2.5 in /usr/local/lib/python3.7/dist-packages (from requests->tika) (2.10)\n",
            "Requirement already satisfied: urllib3!=1.25.0,!=1.25.1,<1.26,>=1.21.1 in /usr/local/lib/python3.7/dist-packages (from requests->tika) (1.24.3)\n",
            "Requirement already satisfied: chardet<4,>=3.0.2 in /usr/local/lib/python3.7/dist-packages (from requests->tika) (3.0.4)\n",
            "Requirement already satisfied: certifi>=2017.4.17 in /usr/local/lib/python3.7/dist-packages (from requests->tika) (2021.10.8)\n",
            "Building wheels for collected packages: tika\n",
            "  Building wheel for tika (setup.py) ... \u001b[?25l\u001b[?25hdone\n",
            "  Created wheel for tika: filename=tika-1.24-py3-none-any.whl size=32891 sha256=eccfe8a0c70533052a40386e358672f1ccdbc140a6d417ced4c8165b2697f457\n",
            "  Stored in directory: /root/.cache/pip/wheels/ec/2b/38/58ff05467a742e32f67f5d0de048fa046e764e2fbb25ac93f3\n",
            "Successfully built tika\n",
            "Installing collected packages: tika\n",
            "Successfully installed tika-1.24\n",
            "Collecting tabula-py\n",
            "  Downloading tabula_py-2.3.0-py3-none-any.whl (12.0 MB)\n",
            "\u001b[K     |████████████████████████████████| 12.0 MB 106 kB/s \n",
            "\u001b[?25hRequirement already satisfied: pandas>=0.25.3 in /usr/local/lib/python3.7/dist-packages (from tabula-py) (1.1.5)\n",
            "Requirement already satisfied: numpy in /usr/local/lib/python3.7/dist-packages (from tabula-py) (1.19.5)\n",
            "Collecting distro\n",
            "  Downloading distro-1.6.0-py2.py3-none-any.whl (19 kB)\n",
            "Requirement already satisfied: pytz>=2017.2 in /usr/local/lib/python3.7/dist-packages (from pandas>=0.25.3->tabula-py) (2018.9)\n",
            "Requirement already satisfied: python-dateutil>=2.7.3 in /usr/local/lib/python3.7/dist-packages (from pandas>=0.25.3->tabula-py) (2.8.2)\n",
            "Requirement already satisfied: six>=1.5 in /usr/local/lib/python3.7/dist-packages (from python-dateutil>=2.7.3->pandas>=0.25.3->tabula-py) (1.15.0)\n",
            "Installing collected packages: distro, tabula-py\n",
            "Successfully installed distro-1.6.0 tabula-py-2.3.0\n"
          ]
        }
      ]
    },
    {
      "cell_type": "markdown",
      "metadata": {
        "id": "6irVF-77xNGy"
      },
      "source": [
        "Import the Library"
      ]
    },
    {
      "cell_type": "code",
      "metadata": {
        "id": "ZRMHxRpoOZtt"
      },
      "source": [
        "import PyPDF2 \n",
        "import tabula\n",
        "import tika\n",
        "from tika import parser\n",
        "import numpy as np"
      ],
      "execution_count": 2,
      "outputs": []
    },
    {
      "cell_type": "markdown",
      "metadata": {
        "id": "Q4Abz9bvxQ89"
      },
      "source": [
        "Define filepath of the pdf file"
      ]
    },
    {
      "cell_type": "code",
      "metadata": {
        "id": "1vdt7rRaWnq8"
      },
      "source": [
        "filepath = \"/content/drive/MyDrive/CAD IT/Machine Learning Application Engineer Test 2021 V1.1/Q2.pdf\""
      ],
      "execution_count": 3,
      "outputs": []
    },
    {
      "cell_type": "markdown",
      "metadata": {
        "id": "f1ibMqpFxYRW"
      },
      "source": [
        "Determine the total number of pages in the pdf file"
      ]
    },
    {
      "cell_type": "code",
      "metadata": {
        "id": "T58zd8dlO7WZ"
      },
      "source": [
        "# creating a pdf file object \n",
        "pdfFileObj = open(filepath, 'rb') \n",
        "# creating a pdf reader object \n",
        "pdfReader = PyPDF2.PdfFileReader(pdfFileObj) \n",
        "# get number of pages in pdf file \n",
        "num_pages = pdfReader.numPages"
      ],
      "execution_count": 4,
      "outputs": []
    },
    {
      "cell_type": "markdown",
      "metadata": {
        "id": "HDypJ1IdxgZi"
      },
      "source": [
        "Extract table data from the pdf file"
      ]
    },
    {
      "cell_type": "code",
      "metadata": {
        "id": "BSLOubxiXQzu"
      },
      "source": [
        "dfs = []\n",
        "for i in range (1,num_pages+1):\n",
        "  df = tabula.read_pdf(\n",
        "    filepath,\n",
        "    pages=i,\n",
        "    lattice=True,\n",
        "    silent=True\n",
        "    )\n",
        "  dfs.append(df)"
      ],
      "execution_count": 5,
      "outputs": []
    },
    {
      "cell_type": "markdown",
      "metadata": {
        "id": "A4q25aT5xphP"
      },
      "source": [
        "Scrap information about Description and Possible Root Cause from the extracted table"
      ]
    },
    {
      "cell_type": "code",
      "metadata": {
        "id": "YZ-18fdcgOgQ"
      },
      "source": [
        "descs = []\n",
        "prcs = []\n",
        "for i in range (num_pages):\n",
        "  dum = dfs[i][0]\n",
        "  dum = dum.dropna(axis = 0, how = 'all')\n",
        "  dum = dum.dropna(axis = 1, how = 'all')\n",
        "  dum.reset_index(drop=True, inplace=True)\n",
        "  dum = dum.T.reset_index(drop=True).T\n",
        "  is_contain = dum[0].str.contains('Description')\n",
        "  if not np.any(is_contain) :\n",
        "    dum = dum.drop(0, axis=1) \n",
        "    dum = dum.T.reset_index(drop=True).T\n",
        "  desc = dum[dum[0]==\"Description\"]\n",
        "  desc = desc.iloc[0,1]\n",
        "  prc = dum[dum[0]==\"Possible Root\\rcause\"]\n",
        "  prc = prc.iloc[0,1]\n",
        "  descs.append(desc)\n",
        "  prcs.append(prc)"
      ],
      "execution_count": 6,
      "outputs": []
    },
    {
      "cell_type": "markdown",
      "metadata": {
        "id": "CB4atA1Mx_xx"
      },
      "source": [
        "Extract the page number of each page in the pdf file"
      ]
    },
    {
      "cell_type": "code",
      "metadata": {
        "id": "i3CbL8IR7EiJ"
      },
      "source": [
        "PDF_Parse = parser.from_file(filepath)\n",
        "content = PDF_Parse ['content']\n",
        "\n",
        "clue = content.split(\"Service Diagnosis\")\n",
        "clue = np.array(clue)\n",
        "\n",
        "page_numbers = []\n",
        "for i in range (1,len(clue)):\n",
        "  page_number = clue[i][3:5]\n",
        "  page_numbers.append(page_number)"
      ],
      "execution_count": null,
      "outputs": []
    },
    {
      "cell_type": "markdown",
      "metadata": {
        "id": "bcovw77GyH5o"
      },
      "source": [
        "Preprocess all the data before importing to a csv file"
      ]
    },
    {
      "cell_type": "code",
      "metadata": {
        "id": "oOy936y-_QVS"
      },
      "source": [
        "prcs = np.array(prcs)\n",
        "descs = np.array(descs)\n",
        "page_numbers = np.array(page_numbers)\n",
        "\n",
        "page_numbers = page_numbers.reshape(-1,1)\n",
        "descs = descs.reshape(-1,1)\n",
        "prcs = prcs.reshape(-1,1)\n",
        "\n",
        "content = np.concatenate((page_numbers, descs,prcs), axis=1)\n",
        "\n",
        "header = np.array([[\"Page numbers\", \"Description\", \"Possible root cause\"]])\n",
        "\n",
        "Q2 = np.concatenate((header,content),axis=0)"
      ],
      "execution_count": 8,
      "outputs": []
    },
    {
      "cell_type": "markdown",
      "metadata": {
        "id": "rkRFGxQIyXlm"
      },
      "source": [
        "Create the csv file"
      ]
    },
    {
      "cell_type": "code",
      "metadata": {
        "id": "5EVAMb7h10Xq"
      },
      "source": [
        "import csv\n",
        "with open('/content/drive/MyDrive/CAD IT/Q2/Q2.csv', 'w', newline='') as file:\n",
        "    writer = csv.writer(file)\n",
        "    writer.writerows(Q2)"
      ],
      "execution_count": 9,
      "outputs": []
    },
    {
      "cell_type": "markdown",
      "metadata": {
        "id": "DkN_ESP4yfHh"
      },
      "source": [
        "For sanity check, Read the csv file that we've been created"
      ]
    },
    {
      "cell_type": "code",
      "metadata": {
        "colab": {
          "base_uri": "https://localhost:8080/",
          "height": 862
        },
        "id": "2_LPF4fTKU5-",
        "outputId": "57e70e4e-72d1-4da1-f398-ef4ebee4ca12"
      },
      "source": [
        "import pandas as pd\n",
        "\n",
        "df = pd.read_csv(\"/content/drive/MyDrive/CAD IT/Q2/Q2.csv\")\n",
        "display(df)"
      ],
      "execution_count": 10,
      "outputs": [
        {
          "output_type": "display_data",
          "data": {
            "text/html": [
              "<div>\n",
              "<style scoped>\n",
              "    .dataframe tbody tr th:only-of-type {\n",
              "        vertical-align: middle;\n",
              "    }\n",
              "\n",
              "    .dataframe tbody tr th {\n",
              "        vertical-align: top;\n",
              "    }\n",
              "\n",
              "    .dataframe thead th {\n",
              "        text-align: right;\n",
              "    }\n",
              "</style>\n",
              "<table border=\"1\" class=\"dataframe\">\n",
              "  <thead>\n",
              "    <tr style=\"text-align: right;\">\n",
              "      <th></th>\n",
              "      <th>Page numbers</th>\n",
              "      <th>Description</th>\n",
              "      <th>Possible root cause</th>\n",
              "    </tr>\n",
              "  </thead>\n",
              "  <tbody>\n",
              "    <tr>\n",
              "      <th>0</th>\n",
              "      <td>35</td>\n",
              "      <td>INDOOR PCB ABNORMALITY</td>\n",
              "      <td>1.Faulty indoor PCB.\\r2.Faulty connector conne...</td>\n",
              "    </tr>\n",
              "    <tr>\n",
              "      <th>1</th>\n",
              "      <td>36</td>\n",
              "      <td>ANTIFREEZE PROTECTION OR HIGH PRESSURE CONTROL</td>\n",
              "      <td>1.Indoor air filter, heat exchanger block due ...</td>\n",
              "    </tr>\n",
              "    <tr>\n",
              "      <th>2</th>\n",
              "      <td>37</td>\n",
              "      <td>INDOOR FAN MOTOR ABNORMALITY</td>\n",
              "      <td>1.Indoor fan motor winding short, or the motor...</td>\n",
              "    </tr>\n",
              "    <tr>\n",
              "      <th>3</th>\n",
              "      <td>38</td>\n",
              "      <td>INDOOR ROOM THERMISTOR ABNORMALITY</td>\n",
              "      <td>1.Thermistor, connector faulty.\\r2.Indoor PCB ...</td>\n",
              "    </tr>\n",
              "    <tr>\n",
              "      <th>4</th>\n",
              "      <td>39</td>\n",
              "      <td>OUTDOOR PCB ABNORMALITY</td>\n",
              "      <td>1.Micro Controller program run-away due to ext...</td>\n",
              "    </tr>\n",
              "    <tr>\n",
              "      <th>5</th>\n",
              "      <td>40</td>\n",
              "      <td>COMPRESSOR OVERLOAD</td>\n",
              "      <td>1.Refrigerant Shortage.\\r2.4 way valve malfunc...</td>\n",
              "    </tr>\n",
              "    <tr>\n",
              "      <th>6</th>\n",
              "      <td>41</td>\n",
              "      <td>COMPRESSOR OVERLOAD</td>\n",
              "      <td>1.Refrigerant Shortage.\\r2.4 way valve malfunc...</td>\n",
              "    </tr>\n",
              "    <tr>\n",
              "      <th>7</th>\n",
              "      <td>42</td>\n",
              "      <td>COMPRESSOR LOCK/START-UP ABNORMALITY</td>\n",
              "      <td>1.Compressor locked.\\r2.Compressor harness dis...</td>\n",
              "    </tr>\n",
              "    <tr>\n",
              "      <th>8</th>\n",
              "      <td>43</td>\n",
              "      <td>OUTDOOR FAN MOTOR LOCK</td>\n",
              "      <td>1.Fan motor breakdown.\\r2.Harness or connector...</td>\n",
              "    </tr>\n",
              "    <tr>\n",
              "      <th>9</th>\n",
              "      <td>44</td>\n",
              "      <td>AC INPUT OVER CURRENT</td>\n",
              "      <td>1.Over current due to compressor failure.\\r2.O...</td>\n",
              "    </tr>\n",
              "    <tr>\n",
              "      <th>10</th>\n",
              "      <td>45</td>\n",
              "      <td>4 WAY VALVE ABNORMALITY</td>\n",
              "      <td>1.Thermistor defective.\\r2.4 way valve defecti...</td>\n",
              "    </tr>\n",
              "    <tr>\n",
              "      <th>11</th>\n",
              "      <td>46</td>\n",
              "      <td>DISCHARGE PIPE OVERHEAT</td>\n",
              "      <td>1.Refrigerant shortage.\\r2.Four way valve malf...</td>\n",
              "    </tr>\n",
              "    <tr>\n",
              "      <th>12</th>\n",
              "      <td>47</td>\n",
              "      <td>HEAT EXCHANGER OVERHEAT</td>\n",
              "      <td>1.The installation space is not large enough.\\...</td>\n",
              "    </tr>\n",
              "    <tr>\n",
              "      <th>13</th>\n",
              "      <td>48</td>\n",
              "      <td>COMPRESSOR SENSOR SYSTEM ABNORMAL</td>\n",
              "      <td>1.Broken and disconnected harness.\\r2.Outdoor ...</td>\n",
              "    </tr>\n",
              "    <tr>\n",
              "      <th>14</th>\n",
              "      <td>49</td>\n",
              "      <td>COMPRESSOR SENSOR SYSTEM ABNORMAL</td>\n",
              "      <td>1.Broken and disconnected harness.\\r2.Outdoor ...</td>\n",
              "    </tr>\n",
              "    <tr>\n",
              "      <th>15</th>\n",
              "      <td>50</td>\n",
              "      <td>POSITION SENSOR ABNORMAL (COMPRESSOR)</td>\n",
              "      <td>1.Compressor relay cable disconnected.\\r2.Comp...</td>\n",
              "    </tr>\n",
              "    <tr>\n",
              "      <th>16</th>\n",
              "      <td>51</td>\n",
              "      <td>POSITION SENSOR ABNORMAL (COMPRESSOR)</td>\n",
              "      <td>1.Compressor relay cable disconnected.\\r2.Comp...</td>\n",
              "    </tr>\n",
              "    <tr>\n",
              "      <th>17</th>\n",
              "      <td>52</td>\n",
              "      <td>AC CURRENT SENSOR ABNORMALITY</td>\n",
              "      <td>1.Internal wiring broken.\\r2.Outdoor unit PCB ...</td>\n",
              "    </tr>\n",
              "    <tr>\n",
              "      <th>18</th>\n",
              "      <td>53</td>\n",
              "      <td>Thermistor or related abnormality\\rH9: OUTDOOR...</td>\n",
              "      <td>1.Disconnection of the connector for the therm...</td>\n",
              "    </tr>\n",
              "    <tr>\n",
              "      <th>19</th>\n",
              "      <td>54</td>\n",
              "      <td>ELECTRICAL BOX TEMPERATURE RISE (COMPRESSOR OFF)</td>\n",
              "      <td>1.Fin temperature rise due to defective outdoo...</td>\n",
              "    </tr>\n",
              "    <tr>\n",
              "      <th>20</th>\n",
              "      <td>55</td>\n",
              "      <td>Heat sink overheat</td>\n",
              "      <td>1.Fin temperature rise due to short circuit.\\r...</td>\n",
              "    </tr>\n",
              "    <tr>\n",
              "      <th>21</th>\n",
              "      <td>56</td>\n",
              "      <td>IPM ABNORMALITY</td>\n",
              "      <td>1.Over current due to defective power transist...</td>\n",
              "    </tr>\n",
              "    <tr>\n",
              "      <th>22</th>\n",
              "      <td>57</td>\n",
              "      <td>INSUFFICIENT GAS</td>\n",
              "      <td>1.Disconnection of the discharge pipe thermist...</td>\n",
              "    </tr>\n",
              "    <tr>\n",
              "      <th>23</th>\n",
              "      <td>58</td>\n",
              "      <td>DC VOLTAGE OUT OF RANGE</td>\n",
              "      <td>1.   Power supply voltage is not as specified\\...</td>\n",
              "    </tr>\n",
              "    <tr>\n",
              "      <th>24</th>\n",
              "      <td>59</td>\n",
              "      <td>COMMUNICATION ABNORMALITY</td>\n",
              "      <td>1.Faulty outdoor unit PCB.\\r2.Faulty indoor un...</td>\n",
              "    </tr>\n",
              "    <tr>\n",
              "      <th>25</th>\n",
              "      <td>60</td>\n",
              "      <td>INSTALLATION ABNORMALITY</td>\n",
              "      <td>1.Wrong models interconnected.\\r2.Wrong indoor...</td>\n",
              "    </tr>\n",
              "  </tbody>\n",
              "</table>\n",
              "</div>"
            ],
            "text/plain": [
              "    Page numbers  ...                                Possible root cause\n",
              "0             35  ...  1.Faulty indoor PCB.\\r2.Faulty connector conne...\n",
              "1             36  ...  1.Indoor air filter, heat exchanger block due ...\n",
              "2             37  ...  1.Indoor fan motor winding short, or the motor...\n",
              "3             38  ...  1.Thermistor, connector faulty.\\r2.Indoor PCB ...\n",
              "4             39  ...  1.Micro Controller program run-away due to ext...\n",
              "5             40  ...  1.Refrigerant Shortage.\\r2.4 way valve malfunc...\n",
              "6             41  ...  1.Refrigerant Shortage.\\r2.4 way valve malfunc...\n",
              "7             42  ...  1.Compressor locked.\\r2.Compressor harness dis...\n",
              "8             43  ...  1.Fan motor breakdown.\\r2.Harness or connector...\n",
              "9             44  ...  1.Over current due to compressor failure.\\r2.O...\n",
              "10            45  ...  1.Thermistor defective.\\r2.4 way valve defecti...\n",
              "11            46  ...  1.Refrigerant shortage.\\r2.Four way valve malf...\n",
              "12            47  ...  1.The installation space is not large enough.\\...\n",
              "13            48  ...  1.Broken and disconnected harness.\\r2.Outdoor ...\n",
              "14            49  ...  1.Broken and disconnected harness.\\r2.Outdoor ...\n",
              "15            50  ...  1.Compressor relay cable disconnected.\\r2.Comp...\n",
              "16            51  ...  1.Compressor relay cable disconnected.\\r2.Comp...\n",
              "17            52  ...  1.Internal wiring broken.\\r2.Outdoor unit PCB ...\n",
              "18            53  ...  1.Disconnection of the connector for the therm...\n",
              "19            54  ...  1.Fin temperature rise due to defective outdoo...\n",
              "20            55  ...  1.Fin temperature rise due to short circuit.\\r...\n",
              "21            56  ...  1.Over current due to defective power transist...\n",
              "22            57  ...  1.Disconnection of the discharge pipe thermist...\n",
              "23            58  ...  1.   Power supply voltage is not as specified\\...\n",
              "24            59  ...  1.Faulty outdoor unit PCB.\\r2.Faulty indoor un...\n",
              "25            60  ...  1.Wrong models interconnected.\\r2.Wrong indoor...\n",
              "\n",
              "[26 rows x 3 columns]"
            ]
          },
          "metadata": {}
        }
      ]
    },
    {
      "cell_type": "code",
      "metadata": {
        "id": "cHcG0xMxLHeK"
      },
      "source": [
        ""
      ],
      "execution_count": 10,
      "outputs": []
    }
  ]
}